{
 "cells": [
  {
   "cell_type": "code",
   "execution_count": 7,
   "metadata": {},
   "outputs": [
    {
     "name": "stdout",
     "output_type": "stream",
     "text": [
      "This is my first line.\n",
      "This is next line.\n",
      "This is the last line.\n"
     ]
    }
   ],
   "source": [
    "text = 'This is my first line.\\nThis is next line.\\nThis is the last line.'\n",
    "print(text)"
   ]
  },
  {
   "cell_type": "code",
   "execution_count": 8,
   "metadata": {},
   "outputs": [],
   "source": [
    "# write and save\n",
    "my_file = open('my file.txt', 'w')\n",
    "my_file.write(text)\n",
    "my_file.close()    # must close"
   ]
  },
  {
   "cell_type": "code",
   "execution_count": 9,
   "metadata": {},
   "outputs": [],
   "source": [
    "# append\n",
    "append_text = '\\nThis is an appended line.'\n",
    "\n",
    "my_file = open('my file.txt', 'a')\n",
    "my_file.write(append_text)\n",
    "my_file.close()  "
   ]
  },
  {
   "cell_type": "code",
   "execution_count": 11,
   "metadata": {},
   "outputs": [
    {
     "name": "stdout",
     "output_type": "stream",
     "text": [
      "This is my first line.\n",
      "This is next line.\n",
      "This is the last line.\n",
      "This is an appended line.\n"
     ]
    }
   ],
   "source": [
    "# read\n",
    "file = open(\"my file.txt\", 'r')\n",
    "content = file.read()\n",
    "print(content)"
   ]
  },
  {
   "cell_type": "code",
   "execution_count": 16,
   "metadata": {},
   "outputs": [
    {
     "name": "stdout",
     "output_type": "stream",
     "text": [
      "This is my first line.\n",
      " This is next line.\n",
      "\n",
      "['This is the last line.\\n', 'This is an appended line.']\n"
     ]
    }
   ],
   "source": [
    "# readline\n",
    "file = open(\"my file.txt\", 'r')\n",
    "first_line = file.readline()\n",
    "second_line = file.readline()\n",
    "left_lines = file.readlines()\n",
    "print(first_line, second_line)\n",
    "print(left_lines)"
   ]
  }
 ],
 "metadata": {
  "interpreter": {
   "hash": "4eaf1be304415beee96765ae99c3f893cc8312c7f1196698e6029668e9aeb3e5"
  },
  "kernelspec": {
   "display_name": "Python 3.10.0 64-bit",
   "name": "python3"
  },
  "language_info": {
   "codemirror_mode": {
    "name": "ipython",
    "version": 3
   },
   "file_extension": ".py",
   "mimetype": "text/x-python",
   "name": "python",
   "nbconvert_exporter": "python",
   "pygments_lexer": "ipython3",
   "version": "3.10.0"
  },
  "orig_nbformat": 4
 },
 "nbformat": 4,
 "nbformat_minor": 2
}
