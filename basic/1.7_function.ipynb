{
 "cells": [
  {
   "cell_type": "code",
   "execution_count": 6,
   "metadata": {},
   "outputs": [
    {
     "name": "stdout",
     "output_type": "stream",
     "text": [
      "c is 3\n",
      "c is 3\n"
     ]
    }
   ],
   "source": [
    "def func(a, b):\n",
    "    c = a - b\n",
    "    print('c is', c)\n",
    "\n",
    "func(5, 2)\n",
    "func(b=2, a=5)"
   ]
  },
  {
   "cell_type": "code",
   "execution_count": 16,
   "metadata": {},
   "outputs": [
    {
     "name": "stdout",
     "output_type": "stream",
     "text": [
      "price: 1200 \n",
      "color: red \n",
      "brand: carmy \n",
      "is_secondhand False\n"
     ]
    }
   ],
   "source": [
    "def sale_car(price, color, brand='carmy', is_secondhand=True):\n",
    "    #non-default argument follows default argument\n",
    "    print('price:', price,\n",
    "    '\\ncolor:', color,\n",
    "    '\\nbrand:', brand,\n",
    "    '\\nis_secondhand', is_secondhand)\n",
    "\n",
    "sale_car(1200, 'red', is_secondhand=False)"
   ]
  }
 ],
 "metadata": {
  "interpreter": {
   "hash": "4eaf1be304415beee96765ae99c3f893cc8312c7f1196698e6029668e9aeb3e5"
  },
  "kernelspec": {
   "display_name": "Python 3.10.0 64-bit",
   "name": "python3"
  },
  "language_info": {
   "codemirror_mode": {
    "name": "ipython",
    "version": 3
   },
   "file_extension": ".py",
   "mimetype": "text/x-python",
   "name": "python",
   "nbconvert_exporter": "python",
   "pygments_lexer": "ipython3",
   "version": "3.10.0"
  },
  "orig_nbformat": 4
 },
 "nbformat": 4,
 "nbformat_minor": 2
}
