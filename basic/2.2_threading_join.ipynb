{
 "cells": [
  {
   "cell_type": "code",
   "execution_count": 5,
   "metadata": {},
   "outputs": [],
   "source": [
    "import threading\n",
    "import time"
   ]
  },
  {
   "cell_type": "code",
   "execution_count": 12,
   "metadata": {},
   "outputs": [],
   "source": [
    "def thread_job():\n",
    "    print(\"T1 strat\\n\")\n",
    "    for i in range(10):\n",
    "        time.sleep(0.1)\n",
    "    print(\"T1 finish\\n\")"
   ]
  },
  {
   "cell_type": "code",
   "execution_count": 13,
   "metadata": {},
   "outputs": [],
   "source": [
    "def thread_job2():\n",
    "    print(\"T2 strat\\n\")\n",
    "    print(\"T2 finish\\n\")"
   ]
  },
  {
   "cell_type": "code",
   "execution_count": 14,
   "metadata": {},
   "outputs": [
    {
     "name": "stdout",
     "output_type": "stream",
     "text": [
      "T1 strat\n",
      "\n",
      "T2 strat\n",
      "all done.\n",
      "T2 finish\n",
      "\n",
      "\n",
      "T1 finish\n",
      "\n"
     ]
    }
   ],
   "source": [
    "def main():\n",
    "\n",
    "    added_thread = threading.Thread(target=thread_job, name=\"T1\")\n",
    "    added_thread2 = threading.Thread(target=thread_job2, name=\"T2\")\n",
    "\n",
    "    added_thread.start()\n",
    "    added_thread2.start()\n",
    "    \n",
    "    print(\"all done.\")\n",
    "\n",
    "if __name__ == '__main__':\n",
    "    main()"
   ]
  },
  {
   "cell_type": "code",
   "execution_count": 17,
   "metadata": {},
   "outputs": [
    {
     "name": "stdout",
     "output_type": "stream",
     "text": [
      "T1 strat\n",
      "\n",
      "T2 strat\n",
      "\n",
      "T2 finish\n",
      "\n",
      "T1 finish\n",
      "\n",
      "all done.\n"
     ]
    }
   ],
   "source": [
    "def main():\n",
    "    \n",
    "    added_thread = threading.Thread(target=thread_job, name=\"T1\")\n",
    "    added_thread2 = threading.Thread(target=thread_job2, name=\"T2\")\n",
    "\n",
    "    added_thread.start()\n",
    "    added_thread2.start()\n",
    "\n",
    "    added_thread2.join()\n",
    "    added_thread.join()\n",
    "    print(\"all done.\")\n",
    "\n",
    "if __name__ == '__main__':\n",
    "    main()"
   ]
  }
 ],
 "metadata": {
  "interpreter": {
   "hash": "4eaf1be304415beee96765ae99c3f893cc8312c7f1196698e6029668e9aeb3e5"
  },
  "kernelspec": {
   "display_name": "Python 3.10.0 64-bit",
   "name": "python3"
  },
  "language_info": {
   "codemirror_mode": {
    "name": "ipython",
    "version": 3
   },
   "file_extension": ".py",
   "mimetype": "text/x-python",
   "name": "python",
   "nbconvert_exporter": "python",
   "pygments_lexer": "ipython3",
   "version": "3.10.0"
  },
  "orig_nbformat": 4
 },
 "nbformat": 4,
 "nbformat_minor": 2
}
