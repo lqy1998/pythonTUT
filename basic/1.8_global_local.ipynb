{
 "cells": [
  {
   "cell_type": "code",
   "execution_count": 30,
   "metadata": {},
   "outputs": [
    {
     "name": "stdout",
     "output_type": "stream",
     "text": [
      "100\n",
      "None\n",
      "20\n"
     ]
    }
   ],
   "source": [
    "# global variable default capital\n",
    "APPLE = 100 \n",
    "aa = None\n",
    "\n",
    "def func():\n",
    "    global aa         # global\n",
    "    aa = 20\n",
    "    return aa + 100\n",
    "\n",
    "print(APPLE)\n",
    "print(aa)\n",
    "func()\n",
    "print(aa)"
   ]
  }
 ],
 "metadata": {
  "interpreter": {
   "hash": "4eaf1be304415beee96765ae99c3f893cc8312c7f1196698e6029668e9aeb3e5"
  },
  "kernelspec": {
   "display_name": "Python 3.10.0 64-bit",
   "name": "python3"
  },
  "language_info": {
   "codemirror_mode": {
    "name": "ipython",
    "version": 3
   },
   "file_extension": ".py",
   "mimetype": "text/x-python",
   "name": "python",
   "nbconvert_exporter": "python",
   "pygments_lexer": "ipython3",
   "version": "3.10.0"
  },
  "orig_nbformat": 4
 },
 "nbformat": 4,
 "nbformat_minor": 2
}
