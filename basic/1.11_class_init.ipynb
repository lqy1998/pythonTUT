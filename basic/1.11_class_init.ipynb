{
 "cells": [
  {
   "cell_type": "code",
   "execution_count": 4,
   "metadata": {},
   "outputs": [],
   "source": [
    "class Calculator:\n",
    "    name = 'good calculator'\n",
    "    price = 18\n",
    "\n",
    "    def add(self, x, y):\n",
    "        print(self.name)\n",
    "        result = x + y\n",
    "        print(result)\n",
    "    def minus(self, x, y):\n",
    "        result = x - y\n",
    "        print(result)\n",
    "    def times(self, x, y):\n",
    "        return(x*y)\n",
    "    def divide(self, x, y):\n",
    "        return(x/y)\n",
    "\n",
    "cal = Calculator()"
   ]
  },
  {
   "cell_type": "code",
   "execution_count": 7,
   "metadata": {},
   "outputs": [
    {
     "name": "stdout",
     "output_type": "stream",
     "text": [
      "good calculator\n",
      "18\n"
     ]
    }
   ],
   "source": [
    "print(cal.name)\n",
    "print(cal.price)"
   ]
  },
  {
   "cell_type": "code",
   "execution_count": 10,
   "metadata": {},
   "outputs": [
    {
     "name": "stdout",
     "output_type": "stream",
     "text": [
      "good calculator\n",
      "15\n"
     ]
    },
    {
     "data": {
      "text/plain": [
       "1.1428571428571428"
      ]
     },
     "execution_count": 10,
     "metadata": {},
     "output_type": "execute_result"
    }
   ],
   "source": [
    "cal.add(8,7)\n",
    "cal.divide(8, 7)"
   ]
  },
  {
   "cell_type": "code",
   "execution_count": 5,
   "metadata": {},
   "outputs": [
    {
     "name": "stdout",
     "output_type": "stream",
     "text": [
      "Kitty is a 3 -year-old black cat , she likes egg\n"
     ]
    }
   ],
   "source": [
    "class Pet:\n",
    "    year = 3\n",
    "    def __init__(self, category, name, color='black'): \n",
    "        self.cate = category\n",
    "        self.name = name\n",
    "        self.color = color\n",
    "        self.intro('egg')\n",
    "\n",
    "    def intro(self, food):\n",
    "        print(self.name, 'is a', self.year, '-year-old', self.color, self.cate, ', she likes', food)   \n",
    "\n",
    "pet = Pet('cat', 'Kitty')"
   ]
  },
  {
   "cell_type": "code",
   "execution_count": 6,
   "metadata": {},
   "outputs": [
    {
     "name": "stdout",
     "output_type": "stream",
     "text": [
      "Kitty is a 3 -year-old black cat , she likes fish\n"
     ]
    }
   ],
   "source": [
    "pet.intro('fish')"
   ]
  }
 ],
 "metadata": {
  "interpreter": {
   "hash": "4eaf1be304415beee96765ae99c3f893cc8312c7f1196698e6029668e9aeb3e5"
  },
  "kernelspec": {
   "display_name": "Python 3.10.0 64-bit",
   "name": "python3"
  },
  "language_info": {
   "codemirror_mode": {
    "name": "ipython",
    "version": 3
   },
   "file_extension": ".py",
   "mimetype": "text/x-python",
   "name": "python",
   "nbconvert_exporter": "python",
   "pygments_lexer": "ipython3",
   "version": "3.10.0"
  },
  "orig_nbformat": 4
 },
 "nbformat": 4,
 "nbformat_minor": 2
}
