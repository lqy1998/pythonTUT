{
 "cells": [
  {
   "cell_type": "code",
   "execution_count": 6,
   "metadata": {},
   "outputs": [
    {
     "name": "stdout",
     "output_type": "stream",
     "text": [
      "still in loop\n",
      "still in loop\n",
      "still in loop\n",
      "finish running!\n"
     ]
    }
   ],
   "source": [
    "a = True\n",
    "while a:\n",
    "    b = input(\"type sth.:\")\n",
    "    if b == \"1\":\n",
    "        a = False\n",
    "    else:\n",
    "        pass\n",
    "    print(\"still in loop\")\n",
    "    \n",
    "print('finish running!')"
   ]
  },
  {
   "cell_type": "code",
   "execution_count": 7,
   "metadata": {},
   "outputs": [
    {
     "name": "stdout",
     "output_type": "stream",
     "text": [
      "still in loop\n",
      "still in loop\n",
      "finish running!\n"
     ]
    }
   ],
   "source": [
    "while True:\n",
    "    b = input(\"type sth.:\")\n",
    "    if b == \"1\":\n",
    "        break\n",
    "    else:\n",
    "        pass\n",
    "    print(\"still in loop\")\n",
    "\n",
    "print('finish running!')"
   ]
  }
 ],
 "metadata": {
  "interpreter": {
   "hash": "4eaf1be304415beee96765ae99c3f893cc8312c7f1196698e6029668e9aeb3e5"
  },
  "kernelspec": {
   "display_name": "Python 3.10.0 64-bit",
   "name": "python3"
  },
  "language_info": {
   "codemirror_mode": {
    "name": "ipython",
    "version": 3
   },
   "file_extension": ".py",
   "mimetype": "text/x-python",
   "name": "python",
   "nbconvert_exporter": "python",
   "pygments_lexer": "ipython3",
   "version": "3.10.0"
  },
  "orig_nbformat": 4
 },
 "nbformat": 4,
 "nbformat_minor": 2
}
