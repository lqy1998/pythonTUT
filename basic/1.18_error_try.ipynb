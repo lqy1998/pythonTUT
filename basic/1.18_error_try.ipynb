{
 "cells": [
  {
   "cell_type": "code",
   "execution_count": 3,
   "metadata": {},
   "outputs": [],
   "source": [
    "try:\n",
    "    file = open('eeee', 'r+')\n",
    "except Exception as e:\n",
    "    print(e)\n",
    "    response = input(\"Do you wanna create a new file? (y/n)\")\n",
    "    if response == 'y':\n",
    "        file = open('eeee', 'w')\n",
    "    else:\n",
    "        pass\n",
    "else:\n",
    "    file.write('ssss')\n",
    "\n",
    "file.close()"
   ]
  }
 ],
 "metadata": {
  "interpreter": {
   "hash": "4eaf1be304415beee96765ae99c3f893cc8312c7f1196698e6029668e9aeb3e5"
  },
  "kernelspec": {
   "display_name": "Python 3.10.0 64-bit",
   "name": "python3"
  },
  "language_info": {
   "codemirror_mode": {
    "name": "ipython",
    "version": 3
   },
   "file_extension": ".py",
   "mimetype": "text/x-python",
   "name": "python",
   "nbconvert_exporter": "python",
   "pygments_lexer": "ipython3",
   "version": "3.10.0"
  },
  "orig_nbformat": 4
 },
 "nbformat": 4,
 "nbformat_minor": 2
}
