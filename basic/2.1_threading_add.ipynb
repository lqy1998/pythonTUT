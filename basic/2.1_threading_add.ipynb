{
 "cells": [
  {
   "cell_type": "code",
   "execution_count": 1,
   "metadata": {},
   "outputs": [],
   "source": [
    "import threading"
   ]
  },
  {
   "cell_type": "code",
   "execution_count": 4,
   "metadata": {},
   "outputs": [
    {
     "name": "stdout",
     "output_type": "stream",
     "text": [
      "6\n",
      "[<_MainThread(MainThread, started 1160)>, <Thread(Thread-4 (_thread_main), started daemon 23996)>, <Heartbeat(Thread-5, started daemon 1000)>, <ControlThread(Thread-3, started daemon 3172)>, <HistorySavingThread(IPythonHistorySavingThread, started 21496)>, <ParentPollerWindows(Thread-2, started daemon 23676)>]\n",
      "current: <_MainThread(MainThread, started 1160)>\n"
     ]
    }
   ],
   "source": [
    "def main():\n",
    "    print(threading.active_count())\n",
    "    print(threading.enumerate())\n",
    "    print('current:', threading.current_thread())\n",
    "\n",
    "if __name__ == '__main__':\n",
    "    main()"
   ]
  },
  {
   "cell_type": "code",
   "execution_count": 5,
   "metadata": {},
   "outputs": [],
   "source": [
    "def thread_job():\n",
    "    print(\"This is an added Thread, number is %s\"% threading.current_thread())\n"
   ]
  },
  {
   "cell_type": "code",
   "execution_count": 8,
   "metadata": {},
   "outputs": [
    {
     "name": "stdout",
     "output_type": "stream",
     "text": [
      "This is an added Thread, number is <Thread(Thread-8 (thread_job), started 14836)>\n"
     ]
    }
   ],
   "source": [
    "def main1():\n",
    "    added_thread = threading.Thread(target=thread_job)\n",
    "    added_thread.start()\n",
    "\n",
    "# if __name__ == '__main__':\n",
    "main1()"
   ]
  }
 ],
 "metadata": {
  "interpreter": {
   "hash": "4eaf1be304415beee96765ae99c3f893cc8312c7f1196698e6029668e9aeb3e5"
  },
  "kernelspec": {
   "display_name": "Python 3.10.0 64-bit",
   "name": "python3"
  },
  "language_info": {
   "codemirror_mode": {
    "name": "ipython",
    "version": 3
   },
   "file_extension": ".py",
   "mimetype": "text/x-python",
   "name": "python",
   "nbconvert_exporter": "python",
   "pygments_lexer": "ipython3",
   "version": "3.10.0"
  },
  "orig_nbformat": 4
 },
 "nbformat": 4,
 "nbformat_minor": 2
}
