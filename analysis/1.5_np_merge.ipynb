{
 "cells": [
  {
   "cell_type": "code",
   "execution_count": 2,
   "metadata": {},
   "outputs": [],
   "source": [
    "import numpy as np"
   ]
  },
  {
   "cell_type": "code",
   "execution_count": 4,
   "metadata": {},
   "outputs": [
    {
     "name": "stdout",
     "output_type": "stream",
     "text": [
      "c: [[1 1 1]\n",
      " [2 2 2]]\n",
      "d: [1 1 1 2 2 2]\n",
      "(3,) (2, 3) (6,)\n",
      "(3,) (3,)\n"
     ]
    }
   ],
   "source": [
    "a = np.array([1,1,1])\n",
    "b = np.array([2,2,2])\n",
    "c = np.vstack((a,b))   # vertical\n",
    "d = np.hstack((a,b))   # horizontal\n",
    "print('c:', c)\n",
    "print('d:', d)\n",
    "print(a.shape, c.shape, d.shape)\n",
    "print(a.shape, a.T.shape)   # not work~"
   ]
  },
  {
   "cell_type": "code",
   "execution_count": 27,
   "metadata": {},
   "outputs": [
    {
     "name": "stdout",
     "output_type": "stream",
     "text": [
      "[[1]\n",
      " [1]\n",
      " [1]]\n",
      "(3, 1)\n"
     ]
    }
   ],
   "source": [
    "aa = np.array([1,1,1])[:,np.newaxis]\n",
    "bb = np.array([2,2,2])[:,np.newaxis]\n",
    "print(aa)\n",
    "print(aa.shape)"
   ]
  },
  {
   "cell_type": "code",
   "execution_count": 31,
   "metadata": {},
   "outputs": [
    {
     "name": "stdout",
     "output_type": "stream",
     "text": [
      "cc: [[1]\n",
      " [1]\n",
      " [1]\n",
      " [2]\n",
      " [2]\n",
      " [2]]\n",
      "dd: [[1 2 1]\n",
      " [1 2 1]\n",
      " [1 2 1]]\n",
      "(3, 1) (6, 1) (3, 3)\n"
     ]
    }
   ],
   "source": [
    "cc = np.vstack((aa,bb))   # vertical\n",
    "dd = np.hstack((aa,bb,aa))   # horizontal\n",
    "print('cc:', cc)\n",
    "print('dd:', dd)\n",
    "print(aa.shape, cc.shape, dd.shape)"
   ]
  },
  {
   "cell_type": "code",
   "execution_count": 34,
   "metadata": {},
   "outputs": [
    {
     "data": {
      "text/plain": [
       "array([[1, 2, 1, 2],\n",
       "       [1, 2, 1, 2],\n",
       "       [1, 2, 1, 2]])"
      ]
     },
     "execution_count": 34,
     "metadata": {},
     "output_type": "execute_result"
    }
   ],
   "source": [
    "cc1 = np.concatenate((aa,bb,aa,bb), axis=1)   # 0 vertical 1 horizontal\n",
    "cc1"
   ]
  }
 ],
 "metadata": {
  "interpreter": {
   "hash": "4eaf1be304415beee96765ae99c3f893cc8312c7f1196698e6029668e9aeb3e5"
  },
  "kernelspec": {
   "display_name": "Python 3.10.0 64-bit",
   "name": "python3"
  },
  "language_info": {
   "codemirror_mode": {
    "name": "ipython",
    "version": 3
   },
   "file_extension": ".py",
   "mimetype": "text/x-python",
   "name": "python",
   "nbconvert_exporter": "python",
   "pygments_lexer": "ipython3",
   "version": "3.10.0"
  },
  "orig_nbformat": 4
 },
 "nbformat": 4,
 "nbformat_minor": 2
}
