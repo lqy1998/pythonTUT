{
 "cells": [
  {
   "cell_type": "code",
   "execution_count": 1,
   "metadata": {},
   "outputs": [],
   "source": [
    "import numpy as np"
   ]
  },
  {
   "cell_type": "code",
   "execution_count": 2,
   "metadata": {},
   "outputs": [
    {
     "data": {
      "text/plain": [
       "(array([10, 20, 30, 40]), array([0, 1, 2, 3]))"
      ]
     },
     "execution_count": 2,
     "metadata": {},
     "output_type": "execute_result"
    }
   ],
   "source": [
    "a = np.array([10,20,30,40])\n",
    "b = np.arange(4)\n",
    "a,b"
   ]
  },
  {
   "cell_type": "code",
   "execution_count": 9,
   "metadata": {},
   "outputs": [
    {
     "name": "stdout",
     "output_type": "stream",
     "text": [
      "[10 21 32 43]\n",
      "[  0  20  60 120]\n",
      "[0 1 4 9]\n",
      "[-5.44021111  9.12945251 -9.88031624  7.4511316 ]\n"
     ]
    }
   ],
   "source": [
    "print(a+b)\n",
    "print(a*b)\n",
    "print(b**2)\n",
    "print(10 * np.sin(a))"
   ]
  },
  {
   "cell_type": "code",
   "execution_count": 13,
   "metadata": {},
   "outputs": [
    {
     "name": "stdout",
     "output_type": "stream",
     "text": [
      "[ True  True  True False]\n",
      "[False False False  True]\n"
     ]
    }
   ],
   "source": [
    "print(b < 3)\n",
    "print(b == 3)"
   ]
  },
  {
   "cell_type": "code",
   "execution_count": 19,
   "metadata": {},
   "outputs": [
    {
     "name": "stdout",
     "output_type": "stream",
     "text": [
      "[[0 1]\n",
      " [1 1]]\n",
      "[[0 1]\n",
      " [2 3]]\n"
     ]
    }
   ],
   "source": [
    "a = np.array([0,1,1,1]).reshape((2,2))\n",
    "b = np.arange(4).reshape((2,2))\n",
    "print(a)\n",
    "print(b)"
   ]
  },
  {
   "cell_type": "code",
   "execution_count": 21,
   "metadata": {},
   "outputs": [
    {
     "name": "stdout",
     "output_type": "stream",
     "text": [
      "[[0 1]\n",
      " [2 3]]\n",
      "[[2 3]\n",
      " [2 4]]\n",
      "[[2 3]\n",
      " [2 4]]\n"
     ]
    }
   ],
   "source": [
    "print(a*b)\n",
    "print(np.dot(a,b))\n",
    "print(a.dot(b))"
   ]
  },
  {
   "cell_type": "code",
   "execution_count": 17,
   "metadata": {},
   "outputs": [
    {
     "name": "stdout",
     "output_type": "stream",
     "text": [
      "[[1 2 4 3]\n",
      " [3 4 6 5]]\n",
      "28\n",
      "[1 2 4 3]\n",
      "[4 6]\n"
     ]
    }
   ],
   "source": [
    "a = np.array([[1,2,4,3],\n",
    "               [3,4,6,5]])\n",
    "print(a)\n",
    "print(np.sum(a))\n",
    "print(np.min(a, axis=0))   # cross row , return a row\n",
    "print(np.max(a, axis=1))   # cross column , return a column"
   ]
  },
  {
   "cell_type": "code",
   "execution_count": 57,
   "metadata": {},
   "outputs": [
    {
     "name": "stdout",
     "output_type": "stream",
     "text": [
      "[[1 2 4 3]\n",
      " [2 0 6 5]]\n",
      "5\n",
      "[2 2]\n"
     ]
    }
   ],
   "source": [
    "aa = np.array([[1,2,4,3],\n",
    "               [2,0,6,5]])\n",
    "print(aa)\n",
    "print(np.argmin(aa))\n",
    "print(np.argmax(aa, axis=1))"
   ]
  },
  {
   "cell_type": "code",
   "execution_count": 7,
   "metadata": {},
   "outputs": [
    {
     "name": "stdout",
     "output_type": "stream",
     "text": [
      "2.875\n",
      "<function mean at 0x000001BE231EF910>\n",
      "2.875\n",
      "<built-in method mean of numpy.ndarray object at 0x000001BE234507B0>\n",
      "2.875\n"
     ]
    }
   ],
   "source": [
    "aa = np.array([[1,2,4,3],\n",
    "               [2,0,6,5]])\n",
    "print(np.mean(aa))\n",
    "print(np.mean)\n",
    "print(aa.mean())\n",
    "print(aa.mean)\n",
    "print(np.average(aa))"
   ]
  },
  {
   "cell_type": "code",
   "execution_count": 59,
   "metadata": {},
   "outputs": [
    {
     "name": "stdout",
     "output_type": "stream",
     "text": [
      "[[1 2 4 3]\n",
      " [2 0 6 5]]\n",
      "2.5\n",
      "[ 1  3  7 10 12 12 18 23]\n",
      "[[ 1  2 -1]\n",
      " [-2  6 -1]]\n"
     ]
    }
   ],
   "source": [
    "aa = np.array([[1,2,4,3],\n",
    "               [2,0,6,5]])\n",
    "print(aa)\n",
    "print(np.median(aa))\n",
    "print(np.cumsum(aa))\n",
    "print(np.diff(aa))"
   ]
  },
  {
   "cell_type": "code",
   "execution_count": 61,
   "metadata": {},
   "outputs": [
    {
     "name": "stdout",
     "output_type": "stream",
     "text": [
      "[[1 2 4 3]\n",
      " [2 0 6 5]]\n",
      "(array([0, 0, 0, 0, 1, 1, 1], dtype=int64), array([0, 1, 2, 3, 0, 2, 3], dtype=int64))\n"
     ]
    }
   ],
   "source": [
    "aa = np.array([[1,2,4,3],\n",
    "               [2,0,6,5]])\n",
    "print(aa)\n",
    "print(np.nonzero(aa))  # all non-zero (row and column) indices"
   ]
  },
  {
   "cell_type": "code",
   "execution_count": 14,
   "metadata": {},
   "outputs": [
    {
     "name": "stdout",
     "output_type": "stream",
     "text": [
      "[[14 13 12 11]\n",
      " [10  9  8  7]\n",
      " [ 6  5  4  3]]\n",
      "[[11 12 13 14]\n",
      " [ 7  8  9 10]\n",
      " [ 3  4  5  6]]\n"
     ]
    }
   ],
   "source": [
    "aa = np.arange(14,2,-1).reshape((3,4))\n",
    "print(aa)\n",
    "print(np.sort(aa))"
   ]
  },
  {
   "cell_type": "code",
   "execution_count": 15,
   "metadata": {},
   "outputs": [
    {
     "name": "stdout",
     "output_type": "stream",
     "text": [
      "[[14 10  6]\n",
      " [13  9  5]\n",
      " [12  8  4]\n",
      " [11  7  3]]\n",
      "[[14 10  6]\n",
      " [13  9  5]\n",
      " [12  8  4]\n",
      " [11  7  3]]\n"
     ]
    }
   ],
   "source": [
    "aa = np.arange(14,2,-1).reshape((3,4))\n",
    "print(np.transpose(aa))\n",
    "print(aa.T)"
   ]
  },
  {
   "cell_type": "code",
   "execution_count": 16,
   "metadata": {},
   "outputs": [
    {
     "name": "stdout",
     "output_type": "stream",
     "text": [
      "[[9 9 9 9]\n",
      " [9 9 8 7]\n",
      " [6 5 5 5]]\n"
     ]
    }
   ],
   "source": [
    "aa = np.arange(14,2,-1).reshape((3,4))\n",
    "print(np.clip(aa,5,9))"
   ]
  }
 ],
 "metadata": {
  "interpreter": {
   "hash": "4eaf1be304415beee96765ae99c3f893cc8312c7f1196698e6029668e9aeb3e5"
  },
  "kernelspec": {
   "display_name": "Python 3.10.0 64-bit",
   "name": "python3"
  },
  "language_info": {
   "codemirror_mode": {
    "name": "ipython",
    "version": 3
   },
   "file_extension": ".py",
   "mimetype": "text/x-python",
   "name": "python",
   "nbconvert_exporter": "python",
   "pygments_lexer": "ipython3",
   "version": "3.10.0"
  },
  "orig_nbformat": 4
 },
 "nbformat": 4,
 "nbformat_minor": 2
}
